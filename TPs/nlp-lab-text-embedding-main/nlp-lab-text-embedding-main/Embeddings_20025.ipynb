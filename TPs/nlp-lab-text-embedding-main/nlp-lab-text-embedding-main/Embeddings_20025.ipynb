{
 "cells": [
  {
   "cell_type": "markdown",
   "metadata": {},
   "source": [
    "#  NLP-lab :  Word embeddings\n",
    "\n",
    "In this series of exercises, we will explore three word embeddings:\n",
    "\n",
    "* [Collobert & Weston](http://www.jmlr.org/papers/volume12/collobert11a/collobert11a.pdf) https://ronan.collobert.com/senna/\n",
    "* [Word2Vec](https://arxiv.org/abs/1301.3781)\n",
    "* [BERT](https://huggingface.co/bert-base-uncased) \n",
    "\n",
    "\n",
    "In the code already provided, add your code to the place indicated by `YOUR CODE HERE`.\n",
    "\n",
    "**Important** : do NOT commit the data and embedding files in your repository git : it is a waste of resources and it takes more time to clone.\n",
    "> Use https://docs.github.com/en/get-started/getting-started-with-git/ignoring-files\n"
   ]
  },
  {
   "cell_type": "code",
   "execution_count": 1,
   "metadata": {},
   "outputs": [],
   "source": [
    "# basic imports\n",
    "import os\n",
    "import matplotlib.pyplot as plt\n",
    "# display matplotlib graphics in notebook\n",
    "%matplotlib inline \n",
    "import seaborn as sns\n",
    "\n",
    "# disable warnings for libraries\n",
    "import warnings\n",
    "warnings.filterwarnings(\"ignore\")\n",
    "\n",
    "# configure logger\n",
    "import logging\n",
    "logging.basicConfig(format='%(asctime)s %(levelname)s:%(message)s', level=logging.INFO, datefmt='%I:%M:%S')\n",
    "logger = logging.getLogger(__name__)\n"
   ]
  },
  {
   "cell_type": "markdown",
   "metadata": {},
   "source": [
    "###  Embeddings exploration with Collobert's embeddings\n",
    "\n",
    "Upload the files containing the embeddings to `data`:\n",
    "* Collobert (size 50): [collobert_embeddings.txt.zip](https://storage.teklia.com/shared/deepnlp-labs/collobert_embeddings.txt.zip) which contains the embedding vectors and [collobert_words.lst](https://storage.teklia.com/shared/deepnlp-labs/collobert_words.lst) which contains the associated words;\n",
    "\n",
    "You need to unzip the files to load them.\n",
    "\n",
    "Feel free to open the files to see what they contain (it's sometimes surprising).\n",
    "\n",
    "#### Question: \n",
    ">* Add the files to your .gitignore\n",
    ">* Give the size in Mb of the embeddings files before unzipping.\n",
    ">* By exploring the content of the embedding files, give the number of words for which these files provide embeddings.\n",
    "\n"
   ]
  },
  {
   "cell_type": "markdown",
   "metadata": {},
   "source": [
    "We answered these questions in the previous notebook."
   ]
  },
  {
   "cell_type": "markdown",
   "metadata": {},
   "source": [
    "### List of closest words\n",
    "\n",
    "The aim of this exercise is to list the closest words to a given word for the Collobert embedding. First, we'll load the vectors of the Collobert embedding into a numpy array and the associated words into a python list. Then we'll use the [scipy KDTree](https://docs.scipy.org/doc/scipy/reference/generated/scipy.spatial.KDTree.html) data structure to quickly search for the vectors closest to a series of words.\n",
    "\n",
    "\n",
    "#### Question: \n",
    ">* load embedding vectors from the file `data/collobert_embeddings.txt` using the numpy function [genfromtxt](https://numpy.org/doc/stable/reference/generated/numpy.genfromtxt.html)\n",
    ">* load the words associated with the vectors from the `data/collobert_words.lst` file into a python list (using `open()` and `readlines()`)\n",
    ">* check that the sizes are correct\n"
   ]
  },
  {
   "cell_type": "code",
   "execution_count": 2,
   "metadata": {},
   "outputs": [
    {
     "name": "stdout",
     "output_type": "stream",
     "text": [
      "Nombre de vecteurs: 130000\n",
      "Dimension des vecteurs: 50\n",
      "Nombre de mots: 130000\n",
      " Les tailles sont cohérentes !\n"
     ]
    }
   ],
   "source": [
    "import numpy as np\n",
    "# YOUR CODE HERE\n",
    "embeddings_file = \"data/collobert_embeddings.txt/collobert_embeddings.txt\"\n",
    "collobert_embeddings = np.genfromtxt(embeddings_file)\n",
    "\n",
    "words_file = \"data/collobert_words.lst\"\n",
    "with open(words_file, \"r\", encoding=\"utf-8\") as f:\n",
    "    collobert_words = [line.strip() for line in f.readlines()]\n",
    "\n",
    "print(f\"Nombre de vecteurs: {collobert_embeddings.shape[0]}\")\n",
    "print(f\"Dimension des vecteurs: {collobert_embeddings.shape[1]}\")\n",
    "print(f\"Nombre de mots: {len(collobert_words)}\")\n",
    "\n",
    "if len(collobert_words) == collobert_embeddings.shape[0]:\n",
    "    print(\" Les tailles sont cohérentes !\")\n",
    "else:\n",
    "    print(\" Problème de cohérence entre le nombre de mots et de vecteurs.\")"
   ]
  },
  {
   "cell_type": "markdown",
   "metadata": {},
   "source": [
    "KD trees are a very efficient data structure for storing large sets of points in a multi-dimensional space and performing very efficient nearest-neighbour searches. \n",
    "\n",
    "#### Question \n",
    "> * Initialise the [KDTree](https://docs.scipy.org/doc/scipy/reference/generated/scipy.spatial.KDTree.html) structure with Collobert's embedding vectors.\n",
    "> * Using the [tree.query](https://docs.scipy.org/doc/scipy/reference/generated/scipy.spatial.KDTree.query.html#scipy.spatial.KDTree.query) function, display the 5 nearest words for the following words: ‘mother’, ‘computer’, ‘dentist’, ‘war’, ‘president’, ‘secretary’, ‘nurse’.  *Hint: you can use the function `collobert_words.index(w)` to obtain the index of a word in the list of words*.\n",
    "> * Create a `words_plus_neighbors` list containing the words and all their neighbours (for the next question)"
   ]
  },
  {
   "cell_type": "code",
   "execution_count": 3,
   "metadata": {},
   "outputs": [
    {
     "name": "stdout",
     "output_type": "stream",
     "text": [
      "🔹 mother: daughter, wife, father, husband, son\n",
      "🔹 computer: laptop, multimedia, desktop, software, wiki\n",
      "🔹 dentist: pharmacist, midwife, physician, housekeeper, veterinarian\n",
      "🔹 war: revolution, death, court, independence, history\n",
      "🔹 president: governor, chairman, mayor, secretary, senator\n",
      "🔹 secretary: minister, treasurer, chairman, commissioner, undersecretary\n",
      "🔹 nurse: physician, veterinarian, dentist, surgeon, midwife\n",
      "\n",
      "✅ Liste complète des mots et leurs voisins :\n",
      "['mother', 'daughter', 'wife', 'father', 'husband', 'son']\n",
      "['computer', 'laptop', 'multimedia', 'desktop', 'software', 'wiki']\n",
      "['dentist', 'pharmacist', 'midwife', 'physician', 'housekeeper', 'veterinarian']\n",
      "['war', 'revolution', 'death', 'court', 'independence', 'history']\n",
      "['president', 'governor', 'chairman', 'mayor', 'secretary', 'senator']\n",
      "['secretary', 'minister', 'treasurer', 'chairman', 'commissioner', 'undersecretary']\n",
      "['nurse', 'physician', 'veterinarian', 'dentist', 'surgeon', 'midwife']\n"
     ]
    }
   ],
   "source": [
    "from scipy import spatial\n",
    "# YOUR CODE HERE\n",
    "tree = spatial.KDTree(collobert_embeddings)\n",
    "\n",
    "query_words = [\"mother\", \"computer\", \"dentist\", \"war\", \"president\", \"secretary\", \"nurse\"]\n",
    "\n",
    "words_plus_neighbors = []  # Liste demandée par l'énoncé\n",
    "\n",
    "for word in query_words:\n",
    "    if word in collobert_words:\n",
    "        index = collobert_words.index(word)\n",
    "        distances, neighbor_indices = tree.query(collobert_embeddings[index], k=6)  # k=6 pour inclure le mot lui-même\n",
    "        neighbors = [collobert_words[i] for i in neighbor_indices if i != index]  # Exclure le mot lui-même\n",
    "        words_plus_neighbors.append([word] + neighbors)  # On ajoute le mot suivi de ses voisins\n",
    "        print(f\"🔹 {word}: {', '.join(neighbors)}\")\n",
    "    else:\n",
    "        print(f\"❌ Le mot '{word}' n'est pas dans la liste.\")\n",
    "\n",
    "print(\"\\n✅ Liste complète des mots et leurs voisins :\")\n",
    "for group in words_plus_neighbors:\n",
    "    print(group)\n",
    " \n",
    " "
   ]
  },
  {
   "cell_type": "markdown",
   "metadata": {},
   "source": [
    "### Visualisation with T-SNE\n",
    "\n",
    "Embeddings are vectors with several hundred dimensions. It is therefore not possible to display them in their original space. However, it is possible to apply dimension reduction algorithms to display them in 2 or 3 dimensions. One of the dimension reduction algorithms allowing 2D visualisation is [tSNE](https://en.wikipedia.org/wiki/T-distributed_stochastic_neighbor_embedding). \n",
    "\n",
    "#### Question\n",
    "> * Create a `word_vectors` object of type `np.array` from a list containing all the embeddings of the words in the `words_plus_neighbors` list.\n",
    "> * Create a tSNE object from the `from sklearn.manifold import TSNE` library with the parameters `random_state=0`, `n_iter=2000` and `perplexity=15.0` for a 2-dimensional view.\n",
    "> * Calculate *T* the tSNE transformation of the `word_vectors` by applying function `.fit_transform(word_vectors)` to the tSNE object. This function estimates the parameters of the tSNE transformation and returns the reduced-dimension representation of the vectors used for estimation.\n",
    "> * Use the `scatterplot` function from [seaborn](https://seaborn.pydata.org/generated/seaborn.scatterplot.html) to represent points in 2 dimensions and add word labels using the `plt.annotate` function."
   ]
  },
  {
   "cell_type": "code",
   "execution_count": 4,
   "metadata": {},
   "outputs": [
    {
     "data": {
      "image/png": "[encoded data removed]",
      "text/plain": [
       "<Figure size 640x480 with 1 Axes>"
      ]
     },
     "metadata": {},
     "output_type": "display_data"
    }
   ],
   "source": [
    "from sklearn.manifold import TSNE\n",
    "# graphics\n",
    "import matplotlib.pyplot as plt\n",
    "# display matplotlib graphics in notebook\n",
    "%matplotlib inline \n",
    "import seaborn as sns\n",
    "\n",
    "# retrieve the word representation\n",
    "all_words = [w for group in words_plus_neighbors for w in group]\n",
    "word_vectors = np.array([collobert_embeddings[collobert_words.index(w)] for w in all_words])\n",
    "\n",
    "# create the tSNE transform\n",
    "# YOUR CODE HERE\n",
    "tsne = TSNE(n_components=2, random_state=0, n_iter=2000, perplexity=15.0)\n",
    "\n",
    "# fit and transform the word vectors, store in T\n",
    "# YOUR CODE HERE\n",
    "T = tsne.fit_transform(word_vectors)\n",
    "# plot\n",
    "fig = plt.figure()\n",
    "fig.patch.set_facecolor('#f9f9f9')\n",
    "\n",
    "sns.set(rc={'figure.figsize':(14, 8)})\n",
    "sns.set(font_scale=1)\n",
    "\n",
    "sns.scatterplot(x=T[:, 0], y=T[:, 1])\n",
    "\n",
    "for label, x, y in zip(all_words, T[:, 0], T[:, 1]):\n",
    "    plt.annotate(label, xy=(x+1, y+1), xytext=(0, 0), textcoords='offset points')\n",
    "\n"
   ]
  },
  {
   "cell_type": "markdown",
   "metadata": {},
   "source": [
    "### Semantic arithmetic with Word2Vec\n",
    "\n",
    "One of the most original properties of Word2Vec embeddings is that the semantic relationships between vectors can be modelled by arithmetic operations. Given vectors representing the words `king`, `man` and `woman`, it is possible to compute the vector `v` as :  \n",
    "\n",
    "`v = vector(king)-vector(man)+vector(woman)`\n",
    "\n",
    "This operation corresponds to the following semantic relationship: *The king is to the man what the queen is to the woman*, which translates into the following arithmetic: *the concept of king, minus the concept of man plus the concept of woman gives the concept of queen*.\n",
    "\n",
    "In fact, if we look in the embedding for the word whose closest vector is `v`, we find `reine`.\n",
    "\n",
    "\n",
    "We will use a Word2Vec model pre-trained on the French Wac corpus.  This model has been trained on a corpus of 1 billion French words. \n",
    "\n",
    "This embedding is available in 2 formats:\n",
    "- a text format for easy exploration of the model :\n",
    "    - frWac_non_lem_no_postag_no_phrase_200_cbow_cut100.txt](https://storage.teklia.com/shared/deepnlp-labs/frWac_non_lem_no_postag_no_phrase_200_cbow_cut100.txt)\n",
    "- a binary format that can be loaded using the Gensim library: \n",
    "    - [enWac_non_lem_no_postag_no_phrase_200_cbow_cut100.bin](https://storage.teklia.com/shared/deepnlp-labs/frWac_non_lem_no_postag_no_phrase_200_cbow_cut100.bin)\n",
    "\n",
    "Download the text file onto your machine to analyse it.\n",
    "\n",
    "#### Question: \n",
    ">* Add the file to your .gitignore\n",
    ">* Give the size in Mb of the embedding files\n",
    ">* By exploring the contents of the embedding file in text format, give the number of words for which this model provides embeddings and the size of the embedding for each word.\n",
    "\n"
   ]
  },
  {
   "cell_type": "markdown",
   "metadata": {},
   "source": [
    "The size of the embedding file is 327 Mb."
   ]
  },
  {
   "cell_type": "code",
   "execution_count": 5,
   "metadata": {},
   "outputs": [
    {
     "name": "stdout",
     "output_type": "stream",
     "text": [
      "155562 200\n",
      "\n"
     ]
    }
   ],
   "source": [
    "with open(\"data/frWac_non_lem_no_postag_no_phrase_200_cbow_cut100.txt\", \"r\", encoding=\"utf-8\") as f:\n",
    "    first_line = f.readline()\n",
    "    print(first_line)"
   ]
  },
  {
   "cell_type": "markdown",
   "metadata": {},
   "source": [
    "So this file provides embeddings for 155562 words, where 200 is the size of the embedding for each word."
   ]
  },
  {
   "cell_type": "code",
   "execution_count": 6,
   "metadata": {},
   "outputs": [],
   "source": [
    "# from gensim.models import KeyedVectors\n",
    "# bin_path = \"data/frWac_non_lem_no_postag_no_phrase_200_cbow_cut100.bin\"\n",
    "# txt_path = \"data/frWac_non_lem_no_postag_no_phrase_200_cbow_cut100.txt\"\n",
    "\n",
    "# # Charger le modèle en format binaire\n",
    "# model = KeyedVectors.load_word2vec_format(bin_path, binary=True)\n",
    "\n",
    "# # Sauvegarder en format texte\n",
    "# model.save_word2vec_format(txt_path, binary=False)"
   ]
  },
  {
   "cell_type": "markdown",
   "metadata": {},
   "source": [
    "#### Word similarity\n",
    "\n",
    "We are now going to use the [Gensim] library (https://radimrehurek.com/gensim/) to load the Word2Vec model and use it. \n",
    "\n",
    "#### Question: \n",
    ">* Modify the following code to load the Word2Vec template file in binary format using [load_word2vec](https://radimrehurek.com/gensim/models/keyedvectors.html#how-to-obtain-word-vectors)\n",
    ">* Choose a couple of words and find the closest words according to the model using [most_similar](https://radimrehurek.com/gensim/models/keyedvectors.html#gensim.models.keyedvectors.KeyedVectors.most_similar)\n",
    ">* To guess the meaning of the words ‘yokohama’, ‘kanto’ and ‘shamisen’, look for their nearest neighbours. Explain the results.\n"
   ]
  },
  {
   "cell_type": "code",
   "execution_count": 9,
   "metadata": {},
   "outputs": [
    {
     "name": "stderr",
     "output_type": "stream",
     "text": [
      "10:50:22 INFO:loading projection weights from data/frWac_non_lem_no_postag_no_phrase_200_cbow_cut100.bin\n",
      "10:50:23 INFO:KeyedVectors lifecycle event {'msg': 'loaded (155562, 200) matrix of type float32 from data/frWac_non_lem_no_postag_no_phrase_200_cbow_cut100.bin', 'binary': True, 'encoding': 'utf8', 'datetime': '2025-04-27T10:50:23.389434', 'gensim': '4.3.3', 'python': '3.12.3 | packaged by conda-forge | (main, Apr 15 2024, 18:20:11) [MSC v.1938 64 bit (AMD64)]', 'platform': 'Windows-11-10.0.26100-SP0', 'event': 'load_word2vec_format'}\n"
     ]
    },
    {
     "name": "stdout",
     "output_type": "stream",
     "text": [
      "Most similar words to 'chevalier':\n",
      "[('commandeur', 0.6844523549079895), ('chevaliers', 0.6799763441085815), ('écuyer', 0.6333731412887573), ('grand-croix', 0.621898353099823), ('preux', 0.6011075377464294), ('chevalerie', 0.5404021143913269), ('légion', 0.5335969924926758), ('honneur', 0.4953608810901642), ('yvain', 0.4855087101459503), ('insignes', 0.4742659330368042)]\n",
      "\n",
      "Most similar words to 'yokohama':\n",
      "[('tokyo', 0.7117858529090881), ('tôkyô', 0.6314416527748108), ('japon', 0.621522068977356), ('nagoya', 0.6198478937149048), ('kyushu', 0.6141085028648376), ('osaka', 0.6123895645141602), ('fukuoka', 0.5612888932228088), ('japonaise', 0.5507326126098633), ('sendai', 0.5496150255203247), ('japonais', 0.5391373038291931)]\n",
      "\n",
      "Most similar words to 'kanto':\n",
      "[('pokémon', 0.5426285266876221), ('mewtwo', 0.5076008439064026), ('pokémons', 0.4970632791519165), ('saito', 0.4549728333950043), ('pokédex', 0.448673278093338), ('yusuke', 0.44163110852241516), ('osaka', 0.4372847080230713), ('shôgun', 0.4324425756931305), ('jin', 0.42604973912239075), ('honshu', 0.42374101281166077)]\n"
     ]
    }
   ],
   "source": [
    "from gensim.models import KeyedVectors\n",
    "\n",
    "## YOUR CODE HERE\n",
    "embedding_file =\"data/frWac_non_lem_no_postag_no_phrase_200_cbow_cut100.bin\"\n",
    "model = KeyedVectors.load_word2vec_format(embedding_file, binary=True, unicode_errors=\"ignore\")\n",
    "## YOUR CODE HERE\n",
    "print(\"Most similar words to 'chevalier':\")\n",
    "print(model.most_similar(\"chevalier\"))\n",
    "\n",
    "print(\"\\nMost similar words to 'yokohama':\")\n",
    "print(model.most_similar(\"yokohama\"))\n",
    "\n",
    "print(\"\\nMost similar words to 'kanto':\")\n",
    "print(model.most_similar(\"kanto\"))\n",
    "\n",
    "# print(\"\\nMost similar words to 'shamisen':\")\n",
    "# print(model.most_similar(\"Shamisen\"))"
   ]
  },
  {
   "cell_type": "markdown",
   "metadata": {},
   "source": [
    "By looking at their nearest neighbours to infer the meaning for these words, Yokohoma seems to be a city in japan.\n",
    "Kanto seems to be a fictive city in japan, in the pokemon world(closeness with Osaka and Pokemon). "
   ]
  },
  {
   "cell_type": "markdown",
   "metadata": {},
   "source": [
    "#### Semantic arithmetic\n",
    "\n",
    "One of the most original properties of Word2Vec embeddings is that the semantic relationships between vectors can be modelled by arithmetic operations. Given vectors representing the words `king`, `man` and `woman`, it is possible to compute the vector `v` as :  \n",
    "\n",
    "`v = vector(king)-vector(man)+vector(woman)`\n",
    "\n",
    "This operation corresponds to the following semantic relationship: *The king is to the man what the queen is to the woman*, which translates into the following arithmetic: *the concept of king, minus the concept of man plus the concept of woman gives the concept of queen*.\n",
    "\n",
    "In fact, if we look in the embedding for the word whose closest vector is `v`, we find `reine`.\n",
    "\n",
    "#### Question: \n",
    ">* using the function [most_similar](https://radimrehurek.com/gensim/models/keyedvectors.html#gensim.models.keyedvectors.KeyedVectors.most_similar) specifying the arguments `positive` for the vectors to be added and `negative` for the vectors to be subtracted, check the relationship *the concept of king, minus the concept of man plus the concept of woman gives the concept of queen*.\n",
    ">* Using the same method, find XXX in the following semantic relations\n",
    ">   * Paris is to France what XXX is to Japan.\n",
    ">   * Chevalier is to France what XXX is to Japan."
   ]
  },
  {
   "cell_type": "code",
   "execution_count": 12,
   "metadata": {},
   "outputs": [
    {
     "name": "stdout",
     "output_type": "stream",
     "text": [
      "Resultat pour roi - homme + femme : [('reine', 0.6945513486862183), ('duchesse', 0.6247551441192627), ('épouse', 0.6083102822303772), ('régente', 0.5878491997718811), ('duc', 0.5723880529403687), ('épousa', 0.5690740346908569), ('princesse', 0.5680873394012451), ('comtesse', 0.5670515894889832), ('isabeau', 0.5510526299476624), ('belle-mère', 0.523912250995636)]\n",
      "Resultat pour paris - france + japon : [('tokyo', 0.6542136073112488), ('tôkyô', 0.6187594532966614), ('osaka', 0.541408121585846), ('japonaise', 0.537601888179779), ('nagoya', 0.5211064219474792), ('yokohama', 0.511847734451294), ('ueno', 0.5108345150947571), ('kyôto', 0.5066641569137573), ('japonais', 0.5055587291717529), ('shinjuku', 0.49769213795661926)]\n",
      "Resultat pour chevalier - france + japon : [('samouraï', 0.5616667866706848), ('samouraïs', 0.5008909106254578), ('edo', 0.4938366711139679), ('japonaise', 0.48597386479377747), ('chevaliers', 0.482717901468277), ('nihon', 0.4734313488006592), ('kamakura', 0.46880611777305603), ('kobayashi', 0.46759068965911865), ('abe', 0.4654414653778076), ('samurai', 0.4631076157093048)]\n"
     ]
    }
   ],
   "source": [
    "## YOUR CODE HERE\n",
    "# 1. Vérifier l'opération king - man + woman\n",
    "result_king = model.most_similar(positive=['roi', 'femme'], negative=['homme'])\n",
    "print(\"Resultat pour roi - homme + femme :\", result_king)\n",
    "\n",
    "# 2. Trouver XXX pour Paris / France ~ XXX / Japon\n",
    "result_paris = model.most_similar(positive=['japon', 'paris'], negative=['france'])\n",
    "print(\"Resultat pour paris - france + japon :\", result_paris)\n",
    "\n",
    "# 3. Trouver XXX pour Chevalier / France ~ XXX / Japon\n",
    "result_chevalier = model.most_similar(positive=['japon', 'chevalier'], negative=['france'])\n",
    "print(\"Resultat pour chevalier - france + japon :\", result_chevalier)\n"
   ]
  },
  {
   "cell_type": "markdown",
   "metadata": {},
   "source": [
    "The subsequent part was dealt with in the previous notebook, so we just copy-paste the corresponding answers."
   ]
  },
  {
   "cell_type": "markdown",
   "metadata": {},
   "source": [
    "## Contextual embeddings with BERT \n",
    "\n",
    "BERT was one of the first freely available Transformer language models, trained on large corpora. Many other models are available on HuggingFace.\n",
    "\n",
    "As BERT is a contextual model, it is necessary to have it predict whole sentences in order to study the word embeddings it produces. In this section, we will compare the embeddings obtained for polysemous words according to the sentence in which they are used.\n",
    "\n",
    "In English, *plant* has two meanings: plant and vegetable. With a non-contextual embedding, such as Glove or Colobert, these two meanings of the word plus are associated with an identical embedding. With BERT, we'll see that the same word can have several embeddings depending on the context.\n",
    "\n",
    "First, load the BERT model and tokenizer from HuggingFace : "
   ]
  },
  {
   "cell_type": "code",
   "execution_count": null,
   "metadata": {},
   "outputs": [],
   "source": [
    "import torch\n",
    "from transformers import BertTokenizer, BertModel\n",
    "tokenizer = BertTokenizer.from_pretrained('bert-base-uncased')\n",
    "# Load pre-trained model \n",
    "model = BertModel.from_pretrained('bert-base-uncased',\n",
    "                                  output_hidden_states = True, # to access the hidden states\n",
    "                                  )\n",
    "# set the model to \"evaluation\" mode\n",
    "model.eval()"
   ]
  },
  {
   "cell_type": "markdown",
   "metadata": {},
   "source": [
    "### Tokenizer\n",
    "\n",
    "Language models are trained with a specific breakdown of sentences into tokens. These tokens can be words or parts of words. It is necessary to use the tokenizer corresponding to each model.\n",
    "\n",
    "tokenizer.vocab.keys() gives the list of all the tokens known for the language model. \n",
    "\n",
    "#### Question\n",
    ">* How many different tokens are known to the BERT tokenizer?\n",
    ">* Display a hundred tokens at random. What do you find?"
   ]
  },
  {
   "cell_type": "code",
   "execution_count": null,
   "metadata": {},
   "outputs": [],
   "source": [
    "import random\n",
    "# number of token in tokenizer\n",
    "# YOU CODE HERE\n",
    "print(len(tokenizer.vocab))\n",
    "# sample of 100 tokens\n",
    "# YOU CODE HERE\n",
    "\n",
    "random_tokens = random.sample(list(tokenizer.vocab.keys()), 100)\n",
    "for token in random_tokens:\n",
    "    print(token)"
   ]
  },
  {
   "cell_type": "markdown",
   "metadata": {},
   "source": [
    "The tokenizer splits sentences and transforms the elements (words or sub-words) into clues. \n",
    "\n",
    "BERT can process several sentences, but you need to tell it how the sentences (segments) have been split, with an index: 0 for the first sentence, 1 for the second. \n",
    "\n",
    "Two specific tokens must also be added: \n",
    "* CLS], a specific token used for sentence classification\n",
    "* SEP], the end of sentence token.\n",
    "\n",
    "#### Question\n",
    ">* Apply the bert_tokenize function to the 3 phases and keep the 3 vectors (index, token, segment).\n",
    ">* Display this information for each of the sentences and check that the word *plant* has the same token index in the two sentences in which it appears."
   ]
  },
  {
   "cell_type": "code",
   "execution_count": null,
   "metadata": {},
   "outputs": [],
   "source": [
    "snt1 = \"The plant has reached its maximal level of production.\"\n",
    "snt2 = \"The cars are assembled inside the factory.\"\n",
    "snt3 = \"A plant needs sunlight and water to grow well.\"\n",
    "\n",
    "\n",
    "def bert_tokenize(snt):\n",
    "    \"\"\" Apply the BERT tokenizer to a list of words representing a sentence\n",
    "        and return 3 lists: \n",
    "        - list of token indx\n",
    "        - list of token for debugging, not used by the BERT model\n",
    "        - list of sentence index\n",
    "        \"\"\"\n",
    "    # Add the special tokens.\n",
    "    tagged_snt = \"[CLS] \" + snt + \" [SEP]\" \n",
    "    # Tokenize\n",
    "    tokenized_snt = tokenizer.tokenize(tagged_snt)\n",
    "    # convert tokens to indices\n",
    "    indexed_snt = tokenizer.convert_tokens_to_ids(tokenized_snt)\n",
    "    # mark the words in sentence.\n",
    "    segments_ids = [1] * len(tokenized_snt)\n",
    "\n",
    "    return (indexed_snt, tokenized_snt, segments_ids)\n",
    "\n",
    "# YOUR CODE HERE\n",
    "\n",
    "# Tokenize each sentence\n",
    "tokens1 = bert_tokenize(snt1)\n",
    "tokens2 = bert_tokenize(snt2)\n",
    "tokens3 = bert_tokenize(snt3)\n",
    "\n",
    "# Display the results\n",
    "for i, (idxs, toks, segs) in enumerate([tokens1, tokens2, tokens3], start=1):\n",
    "    print(f\"\\n--- Sentence {i} ---\")\n",
    "    print(\"Tokens   :\", toks)\n",
    "    print(\"Indices  :\", idxs)\n",
    "    print(\"Segments :\", segs)\n",
    "\n",
    "# Vérifions le token id pour \"plant\"\n",
    "plant_id = tokenizer.convert_tokens_to_ids(\"plant\")\n",
    "print(f\"\\nToken ID for 'plant' is: {plant_id}\")\n"
   ]
  },
  {
   "cell_type": "markdown",
   "metadata": {},
   "source": [
    "## Inference\n",
    "\n",
    "To calculate embeddings, we need to make a prediction using the BERT model on a complete sentence. The *predict_hidden* function converts the token and segment index lists into a pytorch tensor and applies the model. \n",
    "\n",
    "The model used is a 12-layer model. We will use the last hidden layer of the model as an embedding to represent the words. Other solutions are possible, such as concatenation or averaging of several layers.\n",
    "\n",
    "\n",
    "#### Question\n",
    ">* Apply the model to each of the 3 sentences and store the resulting embeddings (tensors).\n",
    ">* Display the dimension of the resulting tensors. What is the dimension of the embedding vector for each word?"
   ]
  },
  {
   "cell_type": "code",
   "execution_count": null,
   "metadata": {},
   "outputs": [],
   "source": [
    "\n",
    "def predict_hidden(indexed_snt, segments_ids):\n",
    "    \"\"\"Apply the BERT model to the input token indices and segment indices\n",
    "        and return the last hidden layer\n",
    "    \"\"\"\n",
    "    with torch.no_grad():\n",
    "        # Convert inputs to PyTorch tensors\n",
    "        tokens_tensor = torch.tensor([indexed_snt])\n",
    "        segments_tensors = torch.tensor([segments_ids])\n",
    "        outputs = model(tokens_tensor, segments_tensors)\n",
    "        hidden_states = outputs[2]\n",
    "        one_hidden_layer = hidden_states[12][0]\n",
    "        \n",
    "    return one_hidden_layer\n",
    "\n",
    "# YOUR CODE HERE\n",
    "\n",
    "# Appliquer le tokenizer\n",
    "indexed1, toks1, segs1 = tokens1\n",
    "indexed2, toks2, segs2 = tokens2\n",
    "indexed3, toks3, segs3 = tokens3\n",
    "\n",
    "# Appliquer le modèle BERT\n",
    "embedding1 = predict_hidden(indexed1, segs1)\n",
    "embedding2 = predict_hidden(indexed2, segs2)\n",
    "embedding3 = predict_hidden(indexed3, segs3)\n",
    "\n",
    "# Afficher les dimensions\n",
    "print(f\"Phrase 1: {embedding1.shape}, nb tokens: {len(toks1)}\")\n",
    "print(f\"Phrase 2: {embedding2.shape}, nb tokens: {len(toks2)}\")\n",
    "print(f\"Phrase 3: {embedding3.shape}, nb tokens: {len(toks3)}\")"
   ]
  },
  {
   "cell_type": "markdown",
   "metadata": {},
   "source": [
    "The hidden layer returned by the *predict_hidden* function is a tensor containing a context vector representing each token in the input sentence. We can use this vector to represent the meaning of this word as a function of its context. We're going to compare the representation of the polysemous word *plant* as a function of its context.\n",
    "\n",
    "#### Question\n",
    ">* Using the [cosine distance](https://docs.scipy.org/doc/scipy/reference/generated/scipy.spatial.distance.cosine.html), calculate the following distances:\n",
    "> * distance between *plant* in sentence 1 (plant-factory) and *plant* in sentence 3 (plant-vegetal)\n",
    "> * distance between *plant* in sentence 1 (plant-factory) and *factory* in sentence 2 (plant-vegetal) \n",
    "> * distance between *plant* in sentence 1 (plant-factory) and *production* in sentence 2 \n",
    "> distance between *plant* in sentence 3 (plant-vegetal) and *production* in sentence 2 \n",
    "> How can we interpret these distances?"
   ]
  },
  {
   "cell_type": "code",
   "execution_count": null,
   "metadata": {},
   "outputs": [],
   "source": [
    "from scipy.spatial.distance import cosine\n",
    "\n",
    "# YOUR CODE HERE\n",
    "embedding_plant_snt1 = embedding1[toks1.index(\"plant\")]\n",
    "embedding_plant_snt3 = embedding3[toks3.index(\"plant\")]\n",
    "embedding_factory_snt2 = embedding2[toks2.index(\"factory\")]\n",
    "embedding_production_snt2 = embedding1[toks1.index(\"production\")]  \n",
    "\n",
    "# Calcul des distances cosinus\n",
    "distance_plant1_plant3 = cosine(embedding_plant_snt1, embedding_plant_snt3)\n",
    "distance_plant1_factory2 = cosine(embedding_plant_snt1, embedding_factory_snt2)\n",
    "distance_plant1_production2 = cosine(embedding_plant_snt1, embedding_production_snt2)\n",
    "distance_plant3_production2 = cosine(embedding_plant_snt3, embedding_production_snt2)\n",
    "\n",
    "# Affichage des résultats\n",
    "print(f\"Distance cosinus entre 'plant' dans snt1 et 'plant' dans snt3 : {distance_plant1_plant3:.4f}\")\n",
    "print(f\"Distance cosinus entre 'plant' dans snt1 et 'factory' dans snt2 : {distance_plant1_factory2:.4f}\")\n",
    "print(f\"Distance cosinus entre 'plant' dans snt1 et 'production' dans snt1 : {distance_plant1_production2:.4f}\")\n",
    "print(f\"Distance cosinus entre 'plant' dans snt3 et 'production' dans snt1 : {distance_plant3_production2:.4f}\")"
   ]
  },
  {
   "cell_type": "markdown",
   "metadata": {},
   "source": [
    "1. **Les distances cosinus faibles entre les mots \"plant\" et \"factory\" (dans la phrase 1 et 2), ainsi que \"plant\" et \"production\" (dans la phrase 1)** :\n",
    "   - Ces distances montrent que ces termes sont fortement liés dans leurs contextes industriels. \n",
    "   - Dans la phrase 1, \"plant\" fait référence à une usine, et dans la phrase 2, \"factory\" est également un terme lié à une usine. \n",
    "   - De même, dans la phrase 1, \"plant\" est lié à la \"production\" industrielle, ce qui crée une relation contextuelle forte.\n",
    "\n",
    "2. **La faible distance entre \"plant\" dans les phrases 1 et 3** :\n",
    "   - Cela suggère que le modèle capture des similarités dans le sens de \"plant\", même si le sens exact change entre \"usine\" et \"plante végétale\".\n",
    "   - Le modèle semble comprendre qu'il y a des points de convergence entre les deux sens du mot *plant* dans des contextes différents (production industrielle et végétal).\n",
    "\n",
    "3. **Les distances plus élevées entre \"plant\" dans la phrase 3 et \"production\" dans la phrase 1, ainsi que entre \"plant\" dans la phrase 1 et \"plant\" dans la phrase 3** :\n",
    "   - Cela montre que le modèle est sensible aux différences de contexte.\n",
    "   - Par exemple, le contexte végétal de *plant* dans la phrase 3 diffère significativement du contexte industriel de *plant* dans la phrase 1.\n",
    "   - Cette différence se reflète dans la distance plus élevée, indiquant que les représentations contextuelles de ces deux occurrences de *plant* sont moins proches."
   ]
  }
 ],
 "metadata": {
  "kernelspec": {
   "display_name": "mon_env",
   "language": "python",
   "name": "python3"
  },
  "language_info": {
   "codemirror_mode": {
    "name": "ipython",
    "version": 3
   },
   "file_extension": ".py",
   "mimetype": "text/x-python",
   "name": "python",
   "nbconvert_exporter": "python",
   "pygments_lexer": "ipython3",
   "version": "3.12.3"
  }
 },
 "nbformat": 4,
 "nbformat_minor": 2
}
